{
 "cells": [
  {
   "cell_type": "code",
   "execution_count": 10,
   "metadata": {
    "collapsed": false
   },
   "outputs": [
    {
     "name": "stderr",
     "output_type": "stream",
     "text": [
      "C:\\Users\\lioncare\\Anaconda3\\lib\\site-packages\\IPython\\core\\interactiveshell.py:2881: FutureWarning: \n",
      "mpl_style had been deprecated and will be removed in a future version.\n",
      "Use `matplotlib.pyplot.style.use` instead.\n",
      "\n",
      "  exec(code_obj, self.user_global_ns, self.user_ns)\n"
     ]
    }
   ],
   "source": [
    "import pandas as pd\n",
    "import numpy as np\n",
    "from ggplot import *\n",
    "import matplotlib.pyplot as plt\n",
    "from datetime import datetime\n",
    "import dateutil.parser\n",
    "pd.options.display.mpl_style = 'default'\n"
   ]
  },
  {
   "cell_type": "code",
   "execution_count": 11,
   "metadata": {
    "collapsed": true
   },
   "outputs": [],
   "source": [
    "\n",
    "from IPython.core.interactiveshell import InteractiveShell\n",
    "InteractiveShell.ast_node_interactivity = \"all\""
   ]
  },
  {
   "cell_type": "code",
   "execution_count": 12,
   "metadata": {
    "collapsed": true
   },
   "outputs": [],
   "source": [
    "pd.set_option('display.max_columns', 80)\n",
    "pd.set_option('expand_frame_repr', True)"
   ]
  },
  {
   "cell_type": "code",
   "execution_count": 13,
   "metadata": {
    "collapsed": true
   },
   "outputs": [],
   "source": [
    "data_path = '~/Associate_June2017_Data'"
   ]
  },
  {
   "cell_type": "code",
   "execution_count": 16,
   "metadata": {
    "collapsed": false
   },
   "outputs": [],
   "source": [
    "df=pd.read_csv(data_path+'/saving_habits.csv', low_memory=False, encoding = \"ISO-8859-1\")\n",
    "df=pd.read_csv(data_path+'/demographics.csv', low_memory=False, encoding = \"ISO-8859-1\")"
   ]
  },
  {
   "cell_type": "code",
   "execution_count": null,
   "metadata": {
    "collapsed": true
   },
   "outputs": [],
   "source": [
    "#df = df stands for dataframe. it is common practice, because you will have to keep writing out the name of the dataset again and again. helps keep it short and clear."
   ]
  },
  {
   "cell_type": "code",
   "execution_count": 18,
   "metadata": {
    "collapsed": false
   },
   "outputs": [
    {
     "data": {
      "text/html": [
       "<div>\n",
       "<table border=\"1\" class=\"dataframe\">\n",
       "  <thead>\n",
       "    <tr style=\"text-align: right;\">\n",
       "      <th></th>\n",
       "      <th>surveyid</th>\n",
       "      <th>demob2</th>\n",
       "      <th>demob3</th>\n",
       "      <th>demob4</th>\n",
       "      <th>demob5</th>\n",
       "      <th>demob6</th>\n",
       "      <th>demob6_other</th>\n",
       "      <th>demob7</th>\n",
       "      <th>demob8</th>\n",
       "      <th>demob8_other</th>\n",
       "      <th>demob9</th>\n",
       "      <th>demob9_other</th>\n",
       "      <th>demob10</th>\n",
       "      <th>demob11</th>\n",
       "      <th>demob11_other</th>\n",
       "      <th>demob12</th>\n",
       "      <th>demob13</th>\n",
       "      <th>demob15</th>\n",
       "      <th>demob16</th>\n",
       "    </tr>\n",
       "  </thead>\n",
       "  <tbody>\n",
       "    <tr>\n",
       "      <th>0</th>\n",
       "      <td>' 1112'</td>\n",
       "      <td>Male</td>\n",
       "      <td>'24'</td>\n",
       "      <td>Single</td>\n",
       "      <td>College Year 3</td>\n",
       "      <td>Unemployed and searching for work</td>\n",
       "      <td>NaN</td>\n",
       "      <td>No</td>\n",
       "      <td>Refused to answer to answer</td>\n",
       "      <td>NaN</td>\n",
       "      <td>NaN</td>\n",
       "      <td>NaN</td>\n",
       "      <td>Refused to answer</td>\n",
       "      <td>Islam</td>\n",
       "      <td>NaN</td>\n",
       "      <td>717298808</td>\n",
       "      <td>717298808</td>\n",
       "      <td>717298808</td>\n",
       "      <td>717298808</td>\n",
       "    </tr>\n",
       "    <tr>\n",
       "      <th>1</th>\n",
       "      <td>' 1113'</td>\n",
       "      <td>Female</td>\n",
       "      <td>'30'</td>\n",
       "      <td>Married</td>\n",
       "      <td>Form 4</td>\n",
       "      <td>Housewife</td>\n",
       "      <td>NaN</td>\n",
       "      <td>No</td>\n",
       "      <td>Cash</td>\n",
       "      <td>NaN</td>\n",
       "      <td>Not Applicable</td>\n",
       "      <td>NaN</td>\n",
       "      <td>Refused to answer</td>\n",
       "      <td>Islam</td>\n",
       "      <td>NaN</td>\n",
       "      <td>717531771</td>\n",
       "      <td>717531771</td>\n",
       "      <td>717531771</td>\n",
       "      <td>717531771</td>\n",
       "    </tr>\n",
       "  </tbody>\n",
       "</table>\n",
       "</div>"
      ],
      "text/plain": [
       "  surveyid  demob2 demob3     demob4          demob5  \\\n",
       "0  ' 1112'    Male   '24'  Single     College Year 3   \n",
       "1  ' 1113'  Female   '30'    Married          Form 4   \n",
       "\n",
       "                              demob6 demob6_other demob7  \\\n",
       "0  Unemployed and searching for work          NaN     No   \n",
       "1                          Housewife          NaN     No   \n",
       "\n",
       "                        demob8 demob8_other          demob9 demob9_other  \\\n",
       "0  Refused to answer to answer          NaN             NaN          NaN   \n",
       "1                         Cash          NaN  Not Applicable          NaN   \n",
       "\n",
       "             demob10 demob11  demob11_other    demob12    demob13    demob15  \\\n",
       "0  Refused to answer   Islam            NaN  717298808  717298808  717298808   \n",
       "1  Refused to answer   Islam            NaN  717531771  717531771  717531771   \n",
       "\n",
       "     demob16  \n",
       "0  717298808  \n",
       "1  717531771  "
      ]
     },
     "execution_count": 18,
     "metadata": {},
     "output_type": "execute_result"
    }
   ],
   "source": [
    "df.head (2)"
   ]
  },
  {
   "cell_type": "code",
   "execution_count": 32,
   "metadata": {
    "collapsed": true
   },
   "outputs": [],
   "source": [
    "# resource for merging at https://chrisalbon.com/python/pandas_join_merge_dataframe.html\n",
    "# and https://www.youtube.com/watch?v=h4hOPGo4UVU\n",
    "# and http://www.shanelynn.ie/merge-join-dataframes-python-pandas-index-1/"
   ]
  },
  {
   "cell_type": "code",
   "execution_count": 33,
   "metadata": {
    "collapsed": false
   },
   "outputs": [
    {
     "ename": "NameError",
     "evalue": "name 'demographics' is not defined",
     "output_type": "error",
     "traceback": [
      "\u001b[0;31m---------------------------------------------------------------------\u001b[0m",
      "\u001b[0;31mNameError\u001b[0m                           Traceback (most recent call last)",
      "\u001b[0;32m<ipython-input-33-d57d19d3e625>\u001b[0m in \u001b[0;36m<module>\u001b[0;34m()\u001b[0m\n\u001b[0;32m----> 1\u001b[0;31m \u001b[0mresult\u001b[0m \u001b[1;33m=\u001b[0m \u001b[0mpd\u001b[0m\u001b[1;33m.\u001b[0m\u001b[0mmerge\u001b[0m \u001b[1;33m(\u001b[0m\u001b[0mdemographics\u001b[0m\u001b[1;33m,\u001b[0m \u001b[0msaving_habits\u001b[0m\u001b[1;33m,\u001b[0m \u001b[0mon\u001b[0m\u001b[1;33m=\u001b[0m\u001b[1;34m'surveyid'\u001b[0m\u001b[1;33m)\u001b[0m\u001b[1;33m\u001b[0m\u001b[0m\n\u001b[0m",
      "\u001b[0;31mNameError\u001b[0m: name 'demographics' is not defined"
     ]
    }
   ],
   "source": [
    "result = pd.merge (demographics, saving_habits, on='surveyid') \n"
   ]
  },
  {
   "cell_type": "code",
   "execution_count": null,
   "metadata": {
    "collapsed": true
   },
   "outputs": [],
   "source": []
  },
  {
   "cell_type": "code",
   "execution_count": null,
   "metadata": {
    "collapsed": true
   },
   "outputs": [],
   "source": []
  }
 ],
 "metadata": {
  "kernelspec": {
   "display_name": "Python 3",
   "language": "python",
   "name": "python3"
  },
  "language_info": {
   "codemirror_mode": {
    "name": "ipython",
    "version": 3
   },
   "file_extension": ".py",
   "mimetype": "text/x-python",
   "name": "python",
   "nbconvert_exporter": "python",
   "pygments_lexer": "ipython3",
   "version": "3.6.0"
  }
 },
 "nbformat": 4,
 "nbformat_minor": 2
}
